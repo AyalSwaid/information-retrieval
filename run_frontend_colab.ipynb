{
 "cells": [
  {
   "cell_type": "code",
   "execution_count": 1,
   "id": "f63b46f3",
   "metadata": {
    "scrolled": true
   },
   "outputs": [
    {
     "name": "stdout",
     "output_type": "stream",
     "text": [
      "/home/dataproc/engine\r\n"
     ]
    }
   ],
   "source": [
    "# !pip3 freeze\n",
    "# !pip3 install flask-ngrok\n",
    "%cd -q /home/dataproc/engine\n",
    "# # # !mkdir engine\n",
    "# %cd -q engine\n",
    "# !ls\n",
    "!pwd"
   ]
  },
  {
   "cell_type": "code",
   "execution_count": 2,
   "id": "bb22a314",
   "metadata": {
    "scrolled": true
   },
   "outputs": [
    {
     "name": "stderr",
     "output_type": "stream",
     "text": [
      "[nltk_data] Downloading package stopwords to /root/nltk_data...\n",
      "[nltk_data]   Package stopwords is already up-to-date!\n"
     ]
    },
    {
     "name": "stdout",
     "output_type": "stream",
     "text": [
      "Reading indices...\n",
      "indices_loaded\n",
      "loading all words\n"
     ]
    }
   ],
   "source": [
    "import search_frontend as se\n"
   ]
  },
  {
   "cell_type": "code",
   "execution_count": null,
   "id": "e1be55cd",
   "metadata": {
    "scrolled": false
   },
   "outputs": [
    {
     "name": "stdout",
     "output_type": "stream",
     "text": [
      " * Serving Flask app 'search_frontend' (lazy loading)\n",
      " * Environment: production\n",
      "\u001b[31m   WARNING: This is a development server. Do not use it in a production deployment.\u001b[0m\n",
      "\u001b[2m   Use a production WSGI server instead.\u001b[0m\n",
      " * Debug mode: off\n"
     ]
    },
    {
     "name": "stderr",
     "output_type": "stream",
     "text": [
      "WARNING: This is a development server. Do not use it in a production deployment. Use a production WSGI server instead.\n",
      " * Running on http://127.0.0.1:5000\n",
      "Press CTRL+C to quit\n"
     ]
    },
    {
     "name": "stdout",
     "output_type": "stream",
     "text": [
      " * Running on http://f76a-104-198-177-27.ngrok.io\n",
      " * Traffic stats available on http://127.0.0.1:4040\n"
     ]
    },
    {
     "name": "stderr",
     "output_type": "stream",
     "text": [
      "127.0.0.1 - - [14/Jan/2023 23:41:12] \"GET /search?query=best+marvel+movie HTTP/1.1\" 200 -\n",
      "127.0.0.1 - - [14/Jan/2023 23:41:19] \"GET /search?query=How+do+kids+come+to+world%3F HTTP/1.1\" 200 -\n",
      "127.0.0.1 - - [14/Jan/2023 23:41:21] \"GET /search?query=Information+retrieval HTTP/1.1\" 200 -\n",
      "127.0.0.1 - - [14/Jan/2023 23:41:21] \"GET /search?query=LinkedIn HTTP/1.1\" 200 -\n",
      "127.0.0.1 - - [14/Jan/2023 23:41:23] \"GET /search?query=How+to+make+coffee%3F HTTP/1.1\" 200 -\n",
      "127.0.0.1 - - [14/Jan/2023 23:41:23] \"GET /search?query=Ritalin HTTP/1.1\" 200 -\n",
      "127.0.0.1 - - [14/Jan/2023 23:41:29] \"GET /search?query=How+to+make+wine+at+home%3F HTTP/1.1\" 200 -\n",
      "127.0.0.1 - - [14/Jan/2023 23:41:39] \"GET /search?query=Most+expensive+city+in+the+world HTTP/1.1\" 200 -\n",
      "127.0.0.1 - - [14/Jan/2023 23:41:40] \"GET /search?query=India HTTP/1.1\" 200 -\n",
      "127.0.0.1 - - [14/Jan/2023 23:41:44] \"GET /search?query=how+to+make+money+fast%3F HTTP/1.1\" 200 -\n",
      "127.0.0.1 - - [14/Jan/2023 23:41:44] \"GET /search?query=Netflix HTTP/1.1\" 200 -\n",
      "127.0.0.1 - - [14/Jan/2023 23:41:45] \"GET /search?query=Apple+computer HTTP/1.1\" 200 -\n",
      "127.0.0.1 - - [14/Jan/2023 23:41:45] \"GET /search?query=The+Simpsons HTTP/1.1\" 200 -\n",
      "127.0.0.1 - - [14/Jan/2023 23:41:52] \"GET /search?query=World+cup HTTP/1.1\" 200 -\n",
      "127.0.0.1 - - [14/Jan/2023 23:41:53] \"GET /search?query=How+to+lose+weight%3F HTTP/1.1\" 200 -\n",
      "127.0.0.1 - - [14/Jan/2023 23:41:53] \"GET /search?query=Java HTTP/1.1\" 200 -\n",
      "127.0.0.1 - - [14/Jan/2023 23:41:55] \"GET /search?query=Air+Jordan HTTP/1.1\" 200 -\n",
      "127.0.0.1 - - [14/Jan/2023 23:41:56] \"GET /search?query=how+to+deal+with+depression%3F HTTP/1.1\" 200 -\n",
      "127.0.0.1 - - [14/Jan/2023 23:42:00] \"GET /search?query=How+do+you+make+gold HTTP/1.1\" 200 -\n",
      "127.0.0.1 - - [14/Jan/2023 23:42:00] \"GET /search?query=Marijuana HTTP/1.1\" 200 -\n",
      "127.0.0.1 - - [14/Jan/2023 23:42:02] \"GET /search?query=How+to+make+hummus HTTP/1.1\" 200 -\n",
      "127.0.0.1 - - [14/Jan/2023 23:42:03] \"GET /search?query=Winter HTTP/1.1\" 200 -\n",
      "127.0.0.1 - - [14/Jan/2023 23:42:04] \"GET /search?query=Rick+and+Morty HTTP/1.1\" 200 -\n",
      "127.0.0.1 - - [14/Jan/2023 23:42:06] \"GET /search?query=Natural+Language+processing HTTP/1.1\" 200 -\n",
      "127.0.0.1 - - [14/Jan/2023 23:42:13] \"GET /search?query=World+Cup+2022 HTTP/1.1\" 200 -\n",
      "127.0.0.1 - - [14/Jan/2023 23:42:14] \"GET /search?query=Dolly+the+sheep HTTP/1.1\" 200 -\n",
      "127.0.0.1 - - [14/Jan/2023 23:42:14] \"GET /search?query=Ciggarets HTTP/1.1\" 200 -\n",
      "127.0.0.1 - - [14/Jan/2023 23:42:22] \"GET /search?query=What+is+the+best+place+to+live+in%3F HTTP/1.1\" 200 -\n",
      "127.0.0.1 - - [14/Jan/2023 23:42:22] \"GET /search?query=Elon+musk HTTP/1.1\" 200 -\n",
      "127.0.0.1 - - [14/Jan/2023 23:42:23] \"GET /search?query=How+do+you+breed+flowers%3F HTTP/1.1\" 200 -\n",
      "127.0.0.1 - - [14/Jan/2023 23:44:31] \"GET /search?query=best+marvel+movie HTTP/1.1\" 200 -\n",
      "127.0.0.1 - - [14/Jan/2023 23:44:38] \"GET /search?query=How+do+kids+come+to+world%3F HTTP/1.1\" 200 -\n",
      "127.0.0.1 - - [14/Jan/2023 23:44:40] \"GET /search?query=Information+retrieval HTTP/1.1\" 200 -\n",
      "127.0.0.1 - - [14/Jan/2023 23:44:40] \"GET /search?query=LinkedIn HTTP/1.1\" 200 -\n",
      "127.0.0.1 - - [14/Jan/2023 23:44:42] \"GET /search?query=How+to+make+coffee%3F HTTP/1.1\" 200 -\n",
      "127.0.0.1 - - [14/Jan/2023 23:44:42] \"GET /search?query=Ritalin HTTP/1.1\" 200 -\n",
      "127.0.0.1 - - [14/Jan/2023 23:44:48] \"GET /search?query=How+to+make+wine+at+home%3F HTTP/1.1\" 200 -\n",
      "127.0.0.1 - - [14/Jan/2023 23:44:58] \"GET /search?query=Most+expensive+city+in+the+world HTTP/1.1\" 200 -\n",
      "127.0.0.1 - - [14/Jan/2023 23:45:00] \"GET /search?query=India HTTP/1.1\" 200 -\n",
      "127.0.0.1 - - [14/Jan/2023 23:45:03] \"GET /search?query=how+to+make+money+fast%3F HTTP/1.1\" 200 -\n",
      "127.0.0.1 - - [14/Jan/2023 23:45:03] \"GET /search?query=Netflix HTTP/1.1\" 200 -\n",
      "127.0.0.1 - - [14/Jan/2023 23:45:04] \"GET /search?query=Apple+computer HTTP/1.1\" 200 -\n",
      "127.0.0.1 - - [14/Jan/2023 23:45:05] \"GET /search?query=The+Simpsons HTTP/1.1\" 200 -\n",
      "127.0.0.1 - - [14/Jan/2023 23:45:12] \"GET /search?query=World+cup HTTP/1.1\" 200 -\n",
      "127.0.0.1 - - [14/Jan/2023 23:45:12] \"GET /search?query=How+to+lose+weight%3F HTTP/1.1\" 200 -\n",
      "127.0.0.1 - - [14/Jan/2023 23:45:13] \"GET /search?query=Java HTTP/1.1\" 200 -\n",
      "127.0.0.1 - - [14/Jan/2023 23:45:15] \"GET /search?query=Air+Jordan HTTP/1.1\" 200 -\n",
      "127.0.0.1 - - [14/Jan/2023 23:45:16] \"GET /search?query=how+to+deal+with+depression%3F HTTP/1.1\" 200 -\n",
      "127.0.0.1 - - [14/Jan/2023 23:45:19] \"GET /search?query=How+do+you+make+gold HTTP/1.1\" 200 -\n",
      "127.0.0.1 - - [14/Jan/2023 23:45:19] \"GET /search?query=Marijuana HTTP/1.1\" 200 -\n",
      "127.0.0.1 - - [14/Jan/2023 23:45:22] \"GET /search?query=How+to+make+hummus HTTP/1.1\" 200 -\n",
      "127.0.0.1 - - [14/Jan/2023 23:45:23] \"GET /search?query=Winter HTTP/1.1\" 200 -\n",
      "127.0.0.1 - - [14/Jan/2023 23:45:23] \"GET /search?query=Rick+and+Morty HTTP/1.1\" 200 -\n",
      "127.0.0.1 - - [14/Jan/2023 23:45:26] \"GET /search?query=Natural+Language+processing HTTP/1.1\" 200 -\n",
      "127.0.0.1 - - [14/Jan/2023 23:45:33] \"GET /search?query=World+Cup+2022 HTTP/1.1\" 200 -\n",
      "127.0.0.1 - - [14/Jan/2023 23:45:33] \"GET /search?query=Dolly+the+sheep HTTP/1.1\" 200 -\n",
      "127.0.0.1 - - [14/Jan/2023 23:45:33] \"GET /search?query=Cigarets HTTP/1.1\" 200 -\n",
      "127.0.0.1 - - [14/Jan/2023 23:45:42] \"GET /search?query=What+is+the+best+place+to+live+in%3F HTTP/1.1\" 200 -\n",
      "127.0.0.1 - - [14/Jan/2023 23:45:42] \"GET /search?query=Elon+musk HTTP/1.1\" 200 -\n",
      "127.0.0.1 - - [14/Jan/2023 23:45:42] \"GET /search?query=How+do+you+breed+flowers%3F HTTP/1.1\" 200 -\n",
      "127.0.0.1 - - [14/Jan/2023 23:55:41] \"GET /search?query=best+marvel+movie HTTP/1.1\" 200 -\n",
      "127.0.0.1 - - [14/Jan/2023 23:55:48] \"GET /search?query=How+do+kids+come+to+world%3F HTTP/1.1\" 200 -\n",
      "127.0.0.1 - - [14/Jan/2023 23:55:50] \"GET /search?query=Information+retrieval HTTP/1.1\" 200 -\n",
      "127.0.0.1 - - [14/Jan/2023 23:55:50] \"GET /search?query=LinkedIn HTTP/1.1\" 200 -\n",
      "127.0.0.1 - - [14/Jan/2023 23:55:52] \"GET /search?query=How+to+make+coffee%3F HTTP/1.1\" 200 -\n",
      "127.0.0.1 - - [14/Jan/2023 23:55:52] \"GET /search?query=Ritalin HTTP/1.1\" 200 -\n",
      "127.0.0.1 - - [14/Jan/2023 23:55:58] \"GET /search?query=How+to+make+wine+at+home%3F HTTP/1.1\" 200 -\n",
      "127.0.0.1 - - [14/Jan/2023 23:56:08] \"GET /search?query=Most+expensive+city+in+the+world HTTP/1.1\" 200 -\n",
      "127.0.0.1 - - [14/Jan/2023 23:56:09] \"GET /search?query=India HTTP/1.1\" 200 -\n",
      "127.0.0.1 - - [14/Jan/2023 23:56:13] \"GET /search?query=how+to+make+money+fast%3F HTTP/1.1\" 200 -\n",
      "127.0.0.1 - - [14/Jan/2023 23:56:13] \"GET /search?query=Netflix HTTP/1.1\" 200 -\n",
      "127.0.0.1 - - [14/Jan/2023 23:56:14] \"GET /search?query=Apple+computer HTTP/1.1\" 200 -\n",
      "127.0.0.1 - - [14/Jan/2023 23:56:14] \"GET /search?query=The+Simpsons HTTP/1.1\" 200 -\n",
      "127.0.0.1 - - [14/Jan/2023 23:56:21] \"GET /search?query=World+cup HTTP/1.1\" 200 -\n",
      "127.0.0.1 - - [14/Jan/2023 23:56:22] \"GET /search?query=How+to+lose+weight%3F HTTP/1.1\" 200 -\n",
      "127.0.0.1 - - [14/Jan/2023 23:56:22] \"GET /search?query=Java HTTP/1.1\" 200 -\n",
      "127.0.0.1 - - [14/Jan/2023 23:56:24] \"GET /search?query=Air+Jordan HTTP/1.1\" 200 -\n",
      "127.0.0.1 - - [14/Jan/2023 23:56:25] \"GET /search?query=how+to+deal+with+depression%3F HTTP/1.1\" 200 -\n",
      "127.0.0.1 - - [14/Jan/2023 23:56:29] \"GET /search?query=How+do+you+make+gold HTTP/1.1\" 200 -\n",
      "127.0.0.1 - - [14/Jan/2023 23:56:29] \"GET /search?query=Marijuana HTTP/1.1\" 200 -\n",
      "127.0.0.1 - - [14/Jan/2023 23:56:31] \"GET /search?query=How+to+make+hummus HTTP/1.1\" 200 -\n",
      "127.0.0.1 - - [14/Jan/2023 23:56:32] \"GET /search?query=Winter HTTP/1.1\" 200 -\n",
      "127.0.0.1 - - [14/Jan/2023 23:56:33] \"GET /search?query=Rick+and+Morty HTTP/1.1\" 200 -\n",
      "127.0.0.1 - - [14/Jan/2023 23:56:35] \"GET /search?query=Natural+Language+processing HTTP/1.1\" 200 -\n",
      "127.0.0.1 - - [14/Jan/2023 23:56:42] \"GET /search?query=World+Cup+2022 HTTP/1.1\" 200 -\n",
      "127.0.0.1 - - [14/Jan/2023 23:56:43] \"GET /search?query=Dolly+the+sheep HTTP/1.1\" 200 -\n",
      "127.0.0.1 - - [14/Jan/2023 23:56:43] \"GET /search?query=Cigarettes HTTP/1.1\" 200 -\n",
      "127.0.0.1 - - [14/Jan/2023 23:56:51] \"GET /search?query=What+is+the+best+place+to+live+in%3F HTTP/1.1\" 200 -\n",
      "127.0.0.1 - - [14/Jan/2023 23:56:52] \"GET /search?query=Elon+musk HTTP/1.1\" 200 -\n",
      "127.0.0.1 - - [14/Jan/2023 23:56:52] \"GET /search?query=How+do+you+breed+flowers%3F HTTP/1.1\" 200 -\n"
     ]
    }
   ],
   "source": [
    "from flask_ngrok import run_with_ngrok\n",
    "run_with_ngrok(se.app) \n",
    "se.app.run()"
   ]
  },
  {
   "cell_type": "code",
   "execution_count": 6,
   "id": "6b561932",
   "metadata": {},
   "outputs": [
    {
     "data": {
      "text/plain": [
       "[]"
      ]
     },
     "execution_count": 6,
     "metadata": {},
     "output_type": "execute_result"
    }
   ],
   "source": [
    "se.engine.search_by_title('Ciggarets')"
   ]
  }
 ],
 "metadata": {
  "kernelspec": {
   "display_name": "Python 3",
   "language": "python",
   "name": "python3"
  },
  "language_info": {
   "codemirror_mode": {
    "name": "ipython",
    "version": 3
   },
   "file_extension": ".py",
   "mimetype": "text/x-python",
   "name": "python",
   "nbconvert_exporter": "python",
   "pygments_lexer": "ipython3",
   "version": "3.8.15"
  }
 },
 "nbformat": 4,
 "nbformat_minor": 5
}
